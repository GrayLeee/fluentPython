{
 "cells": [
  {
   "cell_type": "code",
   "execution_count": 1,
   "source": [
    "import subprocess\n",
    "import os\n",
    "import time"
   ],
   "outputs": [],
   "metadata": {}
  },
  {
   "cell_type": "code",
   "execution_count": 2,
   "source": [
    "def run_sleep(duration):\n",
    "    proc = subprocess.Popen(['sleep', str(duration)])\n",
    "    return proc\n",
    "\n",
    "start = time.time()\n",
    "procs = []\n",
    "for _ in range(10):\n",
    "    proc = run_sleep(1)\n",
    "    procs.append(proc)\n",
    "for proc in procs:\n",
    "    proc.communicate()\n",
    "end = time.time()\n",
    "print(f\"Total time elapsed: {end - start}\")"
   ],
   "outputs": [
    {
     "output_type": "stream",
     "name": "stdout",
     "text": [
      "Total time elapsed: 1.0432066917419434\n"
     ]
    }
   ],
   "metadata": {}
  },
  {
   "cell_type": "code",
   "execution_count": 3,
   "source": [
    "from threading import Thread\n",
    "import random\n",
    "\n",
    "def fact(num):\n",
    "    f = []\n",
    "    for i in range(1, num + 1):\n",
    "        if num % i == 0:\n",
    "            f.append(i)\n",
    "\n",
    "class FactThread(Thread):\n",
    "    def __init__(self, num):\n",
    "        super().__init__()\n",
    "        self.num = num\n",
    "    \n",
    "    def run(self):\n",
    "        fact(self.num)\n",
    "\n",
    "start = time.time()\n",
    "threads = []\n",
    "for _ in range(5):\n",
    "    thread = FactThread(random.randint(1234567, 7654321))\n",
    "    thread.start()\n",
    "    threads.append(thread)\n",
    "\n",
    "for t in threads:\n",
    "    t.join()\n",
    "end = time.time()\n",
    "print(f\"Total time elapsed: {end - start}\")"
   ],
   "outputs": [
    {
     "output_type": "stream",
     "name": "stdout",
     "text": [
      "Total time elapsed: 1.0007390975952148\n"
     ]
    }
   ],
   "metadata": {}
  },
  {
   "cell_type": "code",
   "execution_count": 4,
   "source": [
    "start = time.time()\n",
    "for _ in range(5):\n",
    "    fact(random.randint(1234567, 7654321))\n",
    "end = time.time()\n",
    "print(f\"Total time elapsed: {end - start}\")"
   ],
   "outputs": [
    {
     "output_type": "stream",
     "name": "stdout",
     "text": [
      "Total time elapsed: 0.8661899566650391\n"
     ]
    }
   ],
   "metadata": {}
  },
  {
   "cell_type": "code",
   "execution_count": 6,
   "source": [
    "class Counter(object):\n",
    "    def __init__(self) -> None:\n",
    "        super().__init__()\n",
    "        self.count = 0\n",
    "\n",
    "    def inc(self):\n",
    "        self.count += 1\n",
    "\n",
    "def worker(how_many: int, counter: Counter):\n",
    "    sum = 0\n",
    "    for i in range(how_many):\n",
    "        sum += random.random()\n",
    "        counter.inc()\n",
    "    \n",
    "def run_counter(how_many: int, counter: Counter):\n",
    "    threads = []\n",
    "    for _ in range(5):\n",
    "        args = [how_many, counter]\n",
    "        thread = Thread(target=worker, args=args)\n",
    "        threads.append(thread)\n",
    "        thread.start()\n",
    "    for t in threads:\n",
    "        t.join()\n",
    "\n",
    "how_many = 10 ** 5\n",
    "counter = Counter()\n",
    "run_counter(how_many, counter)\n",
    "print(f'count should be {5 * how_many}, found {counter.count}')"
   ],
   "outputs": [
    {
     "output_type": "stream",
     "name": "stdout",
     "text": [
      "count should be 500000, found 433829\n"
     ]
    }
   ],
   "metadata": {}
  },
  {
   "cell_type": "code",
   "execution_count": 7,
   "source": [
    "from threading import Lock\n",
    "\n",
    "class SafeCounter(object):\n",
    "    def __init__(self) -> None:\n",
    "        super().__init__()\n",
    "        self.lock = Lock()\n",
    "        self.count = 0\n",
    "        \n",
    "    def inc(self):\n",
    "        with self.lock:\n",
    "            self.count += 1\n",
    "\n",
    "how_many = 10 ** 5\n",
    "counter = SafeCounter()\n",
    "run_counter(how_many, counter)\n",
    "print(f'count should be {5 * how_many}, found {counter.count}')\n"
   ],
   "outputs": [
    {
     "output_type": "stream",
     "name": "stdout",
     "text": [
      "count should be 500000, found 500000\n"
     ]
    }
   ],
   "metadata": {}
  },
  {
   "cell_type": "code",
   "execution_count": null,
   "source": [],
   "outputs": [],
   "metadata": {}
  }
 ],
 "metadata": {
  "orig_nbformat": 4,
  "language_info": {
   "name": "python"
  }
 },
 "nbformat": 4,
 "nbformat_minor": 2
}